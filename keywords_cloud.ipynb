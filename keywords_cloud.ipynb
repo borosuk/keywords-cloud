{
 "cells": [
  {
   "cell_type": "markdown",
   "metadata": {},
   "source": [
    "# Simple keywords cloud\n",
    "\n",
    "***\n",
    "\n",
    "#### Todo:\n",
    "- bring keywords from more languages\n",
    "- urls list in a better way?\n",
    "- a cleaner function for the results is needed"
   ]
  },
  {
   "cell_type": "code",
   "execution_count": 156,
   "metadata": {},
   "outputs": [],
   "source": [
    "import re\n",
    "import keyword\n",
    "import matplotlib.pyplot as plt\n",
    "from wordcloud import WordCloud\n",
    "from bs4 import BeautifulSoup\n",
    "from urllib.request import urlopen"
   ]
  },
  {
   "cell_type": "code",
   "execution_count": 157,
   "metadata": {},
   "outputs": [],
   "source": [
    "# List of usable urls to extract the keywords\n",
    "urls = {\n",
    "    'c#': {\n",
    "        \"url\": \"https://learn.microsoft.com/en-us/dotnet/csharp/language-reference/keywords/\",\n",
    "        \"tag\": \"code\"\n",
    "    },\n",
    "    'c++': {\n",
    "        \"url\": \"https://learn.microsoft.com/en-us/cpp/cpp/keywords-cpp\",\n",
    "        \"tag\": \"code\"\n",
    "    },\n",
    "    't-sql': {\n",
    "        \"url\": \"https://learn.microsoft.com/en-us/sql/t-sql/language-elements/reserved-keywords-transact-sql\",\n",
    "        \"tag\": \"p\"\n",
    "    },\n",
    "    'javascript': {\n",
    "        \"url\": \"https://developer.mozilla.org/en-US/docs/Web/JavaScript/Reference/Lexical_grammar#keywords\",\n",
    "        \"tag\": \"code\"\n",
    "    },\n",
    "    'java': {\n",
    "        \"url\": \"https://docs.oracle.com/javase/tutorial/java/nutsandbolts/_keywords.html\",\n",
    "        \"tag\": \"code\"\n",
    "    }\n",
    "}"
   ]
  },
  {
   "cell_type": "code",
   "execution_count": 158,
   "metadata": {},
   "outputs": [],
   "source": [
    "def get_keywords(language: str):\n",
    "    \"\"\" get the keywords from given link\n",
    "\n",
    "    :param language: the language we want to return the keywords for\n",
    "    :return: a list of keywords in the given language\n",
    "    \"\"\"\n",
    "\n",
    "    lang = language.lower()\n",
    "    result = []\n",
    "\n",
    "    # we can return the python keywords directly from python\n",
    "    if lang == 'python':\n",
    "        return keyword.kwlist\n",
    "\n",
    "    x = lambda x: len(re.findall(r'\\w+', str(x)))\n",
    "\n",
    "    # else we can open the page for each of the listed languages\n",
    "    if lang in urls:\n",
    "        page = urlopen(urls[lang]['url'])\n",
    "        html = page.read().decode(\"utf-8\")\n",
    "        soup = BeautifulSoup(html, \"html.parser\")\n",
    "\n",
    "        return [c.string for c in soup.find_all(urls[lang]['tag']) if (x(c.string) == 1 and c.string is not None)]\n",
    "    \n",
    "    return []"
   ]
  },
  {
   "cell_type": "code",
   "execution_count": 159,
   "metadata": {},
   "outputs": [],
   "source": [
    "def generate_cloud(languages: set, highlights: dict = {}):\n",
    "    \"\"\" function using Wordcloud to generate a... word cloud\n",
    "\n",
    "    :param languages: a set of languages, these have to be one of the existing ones listed in the `urls`\n",
    "    :param highlights: optional parameter to pass a dictionary of words and their weight to be added in the word cloud\n",
    "    \"\"\"\n",
    "\n",
    "    # Create the dictionary starting with the highlights\n",
    "    keywords = {        \n",
    "        'highlights': [k for k in highlights for _ in range(highlights[k])]\n",
    "    }\n",
    "\n",
    "    # Create a dictionary of the languages\n",
    "    for lang in languages:\n",
    "        keywords[lang] = get_keywords(lang)\n",
    "\n",
    "    # Join the full text\n",
    "    txt = ' '.join([v for k in keywords for v in keywords[k] if not v is None])\n",
    "\n",
    "    if len(txt) > 1:\n",
    "        # Generate a word cloud image (1584x396 is the LinkedIn profile background recommended size):\n",
    "        wordcloud = WordCloud(\n",
    "            width=1584,\n",
    "            height=396,\n",
    "            background_color='white',\n",
    "            collocations=False\n",
    "        )\n",
    "        wordcloud.generate(txt)\n",
    "\n",
    "        # Display the generated image:\n",
    "        plt.figure( figsize=(20,10) )\n",
    "        plt.imshow(wordcloud, interpolation='bilinear')\n",
    "        plt.axis(\"off\")\n",
    "        plt.show()    \n",
    "    else:\n",
    "        raise Exception(\"We need at least 1 word to plot a word cloud, got 0.\")"
   ]
  },
  {
   "cell_type": "markdown",
   "metadata": {},
   "source": []
  },
  {
   "cell_type": "code",
   "execution_count": null,
   "metadata": {},
   "outputs": [],
   "source": [
    "# Entry point\n",
    "if __name__ == \"__main__\":\n",
    "\n",
    "    # Few keywords to highlight and their weight\n",
    "    highlights = {\n",
    "        'DataEngineer': 30,\n",
    "        'SQLServer': 10,\n",
    "        'TSQL': 10,\n",
    "        'ETL': 10,\n",
    "        'Python': 6,\n",
    "        'Pandas': 4,\n",
    "        'FastAPI': 6,\n",
    "        'CSharp': 5\n",
    "    }\n",
    "\n",
    "    languages = {'python', 't-sql', 'c#'}\n",
    "\n",
    "    generate_cloud(languages, highlights)"
   ]
  }
 ],
 "metadata": {
  "kernelspec": {
   "display_name": "Python 3.10.8 64-bit",
   "language": "python",
   "name": "python3"
  },
  "language_info": {
   "codemirror_mode": {
    "name": "ipython",
    "version": 3
   },
   "file_extension": ".py",
   "mimetype": "text/x-python",
   "name": "python",
   "nbconvert_exporter": "python",
   "pygments_lexer": "ipython3",
   "version": "3.10.8"
  },
  "orig_nbformat": 4,
  "vscode": {
   "interpreter": {
    "hash": "998a846d4508e6e2af297f038a49867ede22a1ca5e7e78e1f236b230b188368d"
   }
  }
 },
 "nbformat": 4,
 "nbformat_minor": 2
}
